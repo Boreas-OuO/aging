{
 "cells": [
  {
   "cell_type": "markdown",
   "metadata": {},
   "source": [
    "## Import Library"
   ]
  },
  {
   "cell_type": "code",
   "execution_count": 125,
   "metadata": {},
   "outputs": [],
   "source": [
    "# -*- coding: utf-8 -*-\n",
    "from scipy.optimize import  curve_fit\n",
    "import pandas as pd\n",
    "import numpy as np\n",
    "import matplotlib.pyplot as plt\n",
    "from sklearn import preprocessing\n"
   ]
  },
  {
   "cell_type": "markdown",
   "metadata": {},
   "source": [
    "## Define functions"
   ]
  },
  {
   "cell_type": "code",
   "execution_count": 254,
   "metadata": {},
   "outputs": [],
   "source": [
    "def cdf(x, lmda, a, b):\n",
    "    return (1 - np.exp(-lmda * x -(a / b) * (np.exp(b * x) - 1)))\n",
    "\n",
    "def pdf(x, lmda, a, b):\n",
    "    return ((a* np.exp(b * x) + lmda) * np.exp(-lmda * x - (a/b) * (np.exp(b*x) - 1)))\n",
    "\n",
    "\n",
    "'''\n",
    "def cdf(x, gamma, b):\n",
    "    return (1-np.exp(- (b/gamma)*np.exp(gamma*x - 1)))\n",
    "    \n",
    "def pdf(x, gamma, b):\n",
    "    return b * np.exp(gamma * x) * np.exp(-(b/gamma) * (np.exp(gamma * x) - 1))\n",
    "    return ((a* np.exp(b * x) + lmda) * np.exp(-lmda * x - (a/b) * (np.exp(b*x) - 1)))\n",
    "'''\n",
    "def scale_fit(func, x, y):\n",
    "    norm = preprocessing.StandardScaler()\n",
    "    data = [[x[i], y[i]] for i in range(len(x))]\n",
    "    data_ = norm.fit_transform(data)\n",
    "    popt, pcov = curve_fit(func, data_[:,0] , data_[:,1], bounds=[0,[100,100,100]])\n",
    "    return popt, pcov, norm\n",
    "\n",
    "def scale_predict(func, norm, x, popt):\n",
    "    yhat = func(x, popt[0], popt[1], popt[2])\n",
    "    data_ = [x,yhat]\n",
    "    data = norm.inverse_transform([data_])\n",
    "    return data[:,1]"
   ]
  },
  {
   "cell_type": "markdown",
   "metadata": {},
   "source": [
    "## Data preperation"
   ]
  },
  {
   "cell_type": "code",
   "execution_count": 127,
   "metadata": {},
   "outputs": [],
   "source": [
    "age_popu=pd.read_excel('./data/WPP2022_POP_F02_1_POPULATION_5-YEAR_AGE_GROUPS_BOTH_SEXES.xlsx')"
   ]
  },
  {
   "cell_type": "code",
   "execution_count": 383,
   "metadata": {},
   "outputs": [
    {
     "data": {
      "text/plain": [
       "<BarContainer object of 21 artists>"
      ]
     },
     "execution_count": 383,
     "metadata": {},
     "output_type": "execute_result"
    },
    {
     "data": {
      "image/png": "[encoded data removed]",
      "text/plain": [
       "<Figure size 432x288 with 1 Axes>"
      ]
     },
     "metadata": {
      "needs_background": "light"
     },
     "output_type": "display_data"
    }
   ],
   "source": [
    "popu=age_popu.iloc[18523,11:]\n",
    "plt.bar(range(0, len(popu)),popu)"
   ]
  },
  {
   "cell_type": "code",
   "execution_count": 129,
   "metadata": {},
   "outputs": [],
   "source": [
    "# Set the maximum age at 150-years-old so that the model can predict age over 100\n",
    "age = np.linspace(0.04, 0.99, 20, dtype=\"float64\")\n",
    "fit_age = np.append(np.array([0],dtype='float64'), \n",
    "                    np.append(age, np.array([1.49],dtype='float64')), \n",
    "                    axis=None)\n",
    "\n",
    "# Number of death per age group\n",
    "age_death = [0, 3_880, 2_354, 3_217, 10_886, 21_139, 28_276, 31_939, 36_901, 42_895, 65_698, \n",
    "           104_444, 162_098, 209_908, 248_087, 283_523, 307_498, 350_261, 388_121, 319_443, \n",
    "           141_108, 29_363]\n",
    "\n",
    "# Portion of cancer (in death)\n",
    "mn_po = [0, 8.4, 17.8, 13.6, 5.1, 3.9, 4.6, 7.2, 11.1, 15.8, 20, \n",
    "         25, 29.4, 32, 32.9, 30.6, 26.7, 21.1, 15.4, 10.4, 6.7, 4.0]\n",
    "\n",
    "\n",
    "# Compute the Mortality rate of 'cancer group' in U.S.\n",
    "mn_death_cul = [0]\n",
    "for i in range(len(age_death)):\n",
    "    mn_death_cul.append( mn_death_cul[-1] + (mn_po[i] / 100) * age_death[i])\n",
    "mn_mr = np.array([i/mn_death_cul[-1] for i in mn_death_cul], dtype=\"float64\") \n",
    "mn_mr = mn_mr[1:] # Delete the repeated first 0 term"
   ]
  },
  {
   "cell_type": "markdown",
   "metadata": {},
   "source": [
    "## Data Check"
   ]
  },
  {
   "cell_type": "code",
   "execution_count": 131,
   "metadata": {},
   "outputs": [
    {
     "data": {
      "text/html": [
       "<div>\n",
       "<style scoped>\n",
       "    .dataframe tbody tr th:only-of-type {\n",
       "        vertical-align: middle;\n",
       "    }\n",
       "\n",
       "    .dataframe tbody tr th {\n",
       "        vertical-align: top;\n",
       "    }\n",
       "\n",
       "    .dataframe thead th {\n",
       "        text-align: right;\n",
       "    }\n",
       "</style>\n",
       "<table border=\"1\" class=\"dataframe\">\n",
       "  <thead>\n",
       "    <tr style=\"text-align: right;\">\n",
       "      <th></th>\n",
       "      <th>Age Group(Endpoint)</th>\n",
       "      <th>Number of Death</th>\n",
       "      <th>Portion of Death of THis Disease %</th>\n",
       "      <th>Accumulated Mortality Rate</th>\n",
       "    </tr>\n",
       "  </thead>\n",
       "  <tbody>\n",
       "    <tr>\n",
       "      <th>0</th>\n",
       "      <td>0.00</td>\n",
       "      <td>0</td>\n",
       "      <td>0.0</td>\n",
       "      <td>0.000000</td>\n",
       "    </tr>\n",
       "    <tr>\n",
       "      <th>1</th>\n",
       "      <td>0.04</td>\n",
       "      <td>3880</td>\n",
       "      <td>8.4</td>\n",
       "      <td>0.000544</td>\n",
       "    </tr>\n",
       "    <tr>\n",
       "      <th>2</th>\n",
       "      <td>0.09</td>\n",
       "      <td>2354</td>\n",
       "      <td>17.8</td>\n",
       "      <td>0.001243</td>\n",
       "    </tr>\n",
       "    <tr>\n",
       "      <th>3</th>\n",
       "      <td>0.14</td>\n",
       "      <td>3217</td>\n",
       "      <td>13.6</td>\n",
       "      <td>0.001974</td>\n",
       "    </tr>\n",
       "    <tr>\n",
       "      <th>4</th>\n",
       "      <td>0.19</td>\n",
       "      <td>10886</td>\n",
       "      <td>5.1</td>\n",
       "      <td>0.002900</td>\n",
       "    </tr>\n",
       "    <tr>\n",
       "      <th>5</th>\n",
       "      <td>0.24</td>\n",
       "      <td>21139</td>\n",
       "      <td>3.9</td>\n",
       "      <td>0.004276</td>\n",
       "    </tr>\n",
       "    <tr>\n",
       "      <th>6</th>\n",
       "      <td>0.29</td>\n",
       "      <td>28276</td>\n",
       "      <td>4.6</td>\n",
       "      <td>0.006447</td>\n",
       "    </tr>\n",
       "    <tr>\n",
       "      <th>7</th>\n",
       "      <td>0.34</td>\n",
       "      <td>31939</td>\n",
       "      <td>7.2</td>\n",
       "      <td>0.010286</td>\n",
       "    </tr>\n",
       "    <tr>\n",
       "      <th>8</th>\n",
       "      <td>0.39</td>\n",
       "      <td>36901</td>\n",
       "      <td>11.1</td>\n",
       "      <td>0.017122</td>\n",
       "    </tr>\n",
       "    <tr>\n",
       "      <th>9</th>\n",
       "      <td>0.44</td>\n",
       "      <td>42895</td>\n",
       "      <td>15.8</td>\n",
       "      <td>0.028435</td>\n",
       "    </tr>\n",
       "    <tr>\n",
       "      <th>10</th>\n",
       "      <td>0.49</td>\n",
       "      <td>65698</td>\n",
       "      <td>20.0</td>\n",
       "      <td>0.050366</td>\n",
       "    </tr>\n",
       "    <tr>\n",
       "      <th>11</th>\n",
       "      <td>0.54</td>\n",
       "      <td>104444</td>\n",
       "      <td>25.0</td>\n",
       "      <td>0.093948</td>\n",
       "    </tr>\n",
       "    <tr>\n",
       "      <th>12</th>\n",
       "      <td>0.59</td>\n",
       "      <td>162098</td>\n",
       "      <td>29.4</td>\n",
       "      <td>0.173493</td>\n",
       "    </tr>\n",
       "    <tr>\n",
       "      <th>13</th>\n",
       "      <td>0.64</td>\n",
       "      <td>209908</td>\n",
       "      <td>32.0</td>\n",
       "      <td>0.285608</td>\n",
       "    </tr>\n",
       "    <tr>\n",
       "      <th>14</th>\n",
       "      <td>0.69</td>\n",
       "      <td>248087</td>\n",
       "      <td>32.9</td>\n",
       "      <td>0.421842</td>\n",
       "    </tr>\n",
       "    <tr>\n",
       "      <th>15</th>\n",
       "      <td>0.74</td>\n",
       "      <td>283523</td>\n",
       "      <td>30.6</td>\n",
       "      <td>0.566651</td>\n",
       "    </tr>\n",
       "    <tr>\n",
       "      <th>16</th>\n",
       "      <td>0.79</td>\n",
       "      <td>307498</td>\n",
       "      <td>26.7</td>\n",
       "      <td>0.703688</td>\n",
       "    </tr>\n",
       "    <tr>\n",
       "      <th>17</th>\n",
       "      <td>0.84</td>\n",
       "      <td>350261</td>\n",
       "      <td>21.1</td>\n",
       "      <td>0.827044</td>\n",
       "    </tr>\n",
       "    <tr>\n",
       "      <th>18</th>\n",
       "      <td>0.89</td>\n",
       "      <td>388121</td>\n",
       "      <td>15.4</td>\n",
       "      <td>0.926808</td>\n",
       "    </tr>\n",
       "    <tr>\n",
       "      <th>19</th>\n",
       "      <td>0.94</td>\n",
       "      <td>319443</td>\n",
       "      <td>10.4</td>\n",
       "      <td>0.982259</td>\n",
       "    </tr>\n",
       "    <tr>\n",
       "      <th>20</th>\n",
       "      <td>0.99</td>\n",
       "      <td>141108</td>\n",
       "      <td>6.7</td>\n",
       "      <td>0.998040</td>\n",
       "    </tr>\n",
       "    <tr>\n",
       "      <th>21</th>\n",
       "      <td>1.49</td>\n",
       "      <td>29363</td>\n",
       "      <td>4.0</td>\n",
       "      <td>1.000000</td>\n",
       "    </tr>\n",
       "  </tbody>\n",
       "</table>\n",
       "</div>"
      ],
      "text/plain": [
       "    Age Group(Endpoint)  Number of Death  Portion of Death of THis Disease %  \\\n",
       "0                  0.00                0                                 0.0   \n",
       "1                  0.04             3880                                 8.4   \n",
       "2                  0.09             2354                                17.8   \n",
       "3                  0.14             3217                                13.6   \n",
       "4                  0.19            10886                                 5.1   \n",
       "5                  0.24            21139                                 3.9   \n",
       "6                  0.29            28276                                 4.6   \n",
       "7                  0.34            31939                                 7.2   \n",
       "8                  0.39            36901                                11.1   \n",
       "9                  0.44            42895                                15.8   \n",
       "10                 0.49            65698                                20.0   \n",
       "11                 0.54           104444                                25.0   \n",
       "12                 0.59           162098                                29.4   \n",
       "13                 0.64           209908                                32.0   \n",
       "14                 0.69           248087                                32.9   \n",
       "15                 0.74           283523                                30.6   \n",
       "16                 0.79           307498                                26.7   \n",
       "17                 0.84           350261                                21.1   \n",
       "18                 0.89           388121                                15.4   \n",
       "19                 0.94           319443                                10.4   \n",
       "20                 0.99           141108                                 6.7   \n",
       "21                 1.49            29363                                 4.0   \n",
       "\n",
       "    Accumulated Mortality Rate  \n",
       "0                     0.000000  \n",
       "1                     0.000544  \n",
       "2                     0.001243  \n",
       "3                     0.001974  \n",
       "4                     0.002900  \n",
       "5                     0.004276  \n",
       "6                     0.006447  \n",
       "7                     0.010286  \n",
       "8                     0.017122  \n",
       "9                     0.028435  \n",
       "10                    0.050366  \n",
       "11                    0.093948  \n",
       "12                    0.173493  \n",
       "13                    0.285608  \n",
       "14                    0.421842  \n",
       "15                    0.566651  \n",
       "16                    0.703688  \n",
       "17                    0.827044  \n",
       "18                    0.926808  \n",
       "19                    0.982259  \n",
       "20                    0.998040  \n",
       "21                    1.000000  "
      ]
     },
     "execution_count": 131,
     "metadata": {},
     "output_type": "execute_result"
    }
   ],
   "source": [
    "table1=pd.DataFrame({'Age Group(Endpoint)':fit_age, 'Number of Death':age_death, \n",
    "                     'Portion of Death of THis Disease %': mn_po, 'Accumulated Mortality Rate': mn_mr})\n",
    "table1"
   ]
  },
  {
   "cell_type": "markdown",
   "metadata": {},
   "source": [
    "## Fit the Gompertz-Makeham curve\n",
    "\n",
    "### Part 1: CDF "
   ]
  },
  {
   "cell_type": "code",
   "execution_count": 340,
   "metadata": {},
   "outputs": [
    {
     "data": {
      "text/plain": [
       "Text(0.5, 1.0, 'Expected Age of Malignant neoplasms:70.88')"
      ]
     },
     "execution_count": 340,
     "metadata": {},
     "output_type": "execute_result"
    },
    {
     "data": {
      "image/png": "[encoded data removed]",
      "text/plain": [
       "<Figure size 432x288 with 1 Axes>"
      ]
     },
     "metadata": {
      "needs_background": "light"
     },
     "output_type": "display_data"
    }
   ],
   "source": [
    "# Fit the G-M curve\n",
    "bounds=[0,[100,100,100]]\n",
    "popt_cdf, pcov_cdf = curve_fit(cdf, fit_age, mn_mr,bounds=bounds, maxfev = 50_000)\n",
    "\n",
    "pre_mr = [cdf(i, popt_cdf[0], popt_cdf[1], popt_cdf[2]) for i in fit_age]\n",
    "\n",
    "# Compute the expected age by using differential of CDF\n",
    "n = 151\n",
    "age_slice = np.linspace(0,1.5,151)\n",
    "Expected_Age = sum([100 * age_slice[i] * (cdf(age_slice[i], popt_cdf[0], popt_cdf[1], popt_cdf[2])\n",
    "                                          -cdf(age_slice[i-1], popt_cdf[0], popt_cdf[1], popt_cdf[2]))\n",
    "                    for i in range(1, n)])\n",
    "\n",
    "plt.plot([i*100 for i in fit_age], mn_mr,'r*', \n",
    "         [i*100 for i in fit_age], pre_mr, 'b')\n",
    "plt.legend(['Real Mortality Rate', 'Fitted G-M Curve CDF'])\n",
    "plt.xlabel('Age')\n",
    "plt.ylabel('Accumulated Mortality Rate of Disease')\n",
    "plt.title(f'Expected Age of Malignant neoplasms:{round(Expected_Age,2)}')"
   ]
  },
  {
   "cell_type": "code",
   "execution_count": 281,
   "metadata": {},
   "outputs": [
    {
     "data": {
      "text/plain": [
       "0.9999999999999479"
      ]
     },
     "execution_count": 281,
     "metadata": {},
     "output_type": "execute_result"
    }
   ],
   "source": [
    "cdf(1.15, popt_cdf[0], popt_cdf[1], popt_cdf[2])\n"
   ]
  },
  {
   "cell_type": "markdown",
   "metadata": {},
   "source": [
    "### Part 2: PDF"
   ]
  },
  {
   "cell_type": "code",
   "execution_count": 333,
   "metadata": {},
   "outputs": [
    {
     "data": {
      "text/plain": [
       "Text(0.5, 1.0, 'Expected Age of Malignant neoplasms:70.88')"
      ]
     },
     "execution_count": 333,
     "metadata": {},
     "output_type": "execute_result"
    },
    {
     "data": {
      "image/png": "[encoded data removed]",
      "text/plain": [
       "<Figure size 432x288 with 1 Axes>"
      ]
     },
     "metadata": {
      "needs_background": "light"
     },
     "output_type": "display_data"
    }
   ],
   "source": [
    "mn_death_disc = []\n",
    "norm = preprocessing.MinMaxScaler()\n",
    "\n",
    "for i in range(len(age_death)):\n",
    "    mn_death_disc.append((mn_po[i] / 100) * age_death[i])\n",
    "mn_mr_pdf = [ (each / sum(mn_death_disc)) for each in mn_death_disc]\n",
    "# Normalization: map the sample point to [0, 1] interval\n",
    "'''\n",
    "mn_mr_pdf_ = [100*(each - min(mn_mr_pdf))\n",
    "              /(max(mn_mr_pdf) - min(mn_mr_pdf)) \n",
    "              for each in mn_mr_pdf]\n",
    "'''\n",
    "mn_mr_pdf_ = [100 *each for each in mn_mr_pdf]\n",
    "fit_age_ = [age*10 for age in fit_age]\n",
    "popt_pdf, pcov_pdf = curve_fit(pdf, fit_age, mn_mr_pdf, bounds=bounds, p0 = popt_cdf, maxfev = 20_000)\n",
    "\n",
    "# Predict the mortality rate of cancer\n",
    "pre_mr_pdf = [pdf(i, popt_pdf[0], popt_pdf[1], popt_pdf[2]) for i in fit_age]\n",
    "\n",
    "plt.plot([i*100 for i in fit_age], mn_mr_pdf_,'r*', \n",
    "         [i*100 for i in fit_age], pre_mr_pdf, 'b')\n",
    "plt.legend(['Real Mortality Rate', 'Fitted G-M Curve CDF'])\n",
    "plt.xlabel('Age')\n",
    "plt.ylabel('Accumulated Mortality Rate of Disease')\n",
    "plt.title(f'Expected Age of Malignant neoplasms:{round(Expected_Age,2)}')"
   ]
  },
  {
   "cell_type": "markdown",
   "metadata": {},
   "source": [
    "+ However, I guess here is the reason why we can not fit it perfectly:\n",
    "  + the value we obtained from data is actually an integration of a 5 year group, which is an accumulated pobability, so we can not find the true pobability density function sample point at a specific point, taking the age group [5, 9] as an example:\n",
    "  + $$0.000544 = \\int_5^9 PDF(age, coef)d_{age}$$\n",
    "  + As a result, we can not get the true pdf function, the next graph shows that we can approximate PDF by using the coefficients of CDF, which implies that the coefficients of CDF and PDF are actually the same."
   ]
  },
  {
   "cell_type": "code",
   "execution_count": 305,
   "metadata": {},
   "outputs": [
    {
     "data": {
      "text/html": [
       "<div>\n",
       "<style scoped>\n",
       "    .dataframe tbody tr th:only-of-type {\n",
       "        vertical-align: middle;\n",
       "    }\n",
       "\n",
       "    .dataframe tbody tr th {\n",
       "        vertical-align: top;\n",
       "    }\n",
       "\n",
       "    .dataframe thead th {\n",
       "        text-align: right;\n",
       "    }\n",
       "</style>\n",
       "<table border=\"1\" class=\"dataframe\">\n",
       "  <thead>\n",
       "    <tr style=\"text-align: right;\">\n",
       "      <th></th>\n",
       "      <th>Age Group(Endpoint)</th>\n",
       "      <th>Accumulated Mortality Rate</th>\n",
       "      <th>Mortality Rate</th>\n",
       "    </tr>\n",
       "  </thead>\n",
       "  <tbody>\n",
       "    <tr>\n",
       "      <th>0</th>\n",
       "      <td>0.00</td>\n",
       "      <td>0.000000</td>\n",
       "      <td>0.000000</td>\n",
       "    </tr>\n",
       "    <tr>\n",
       "      <th>1</th>\n",
       "      <td>0.04</td>\n",
       "      <td>0.000544</td>\n",
       "      <td>0.000544</td>\n",
       "    </tr>\n",
       "    <tr>\n",
       "      <th>2</th>\n",
       "      <td>0.09</td>\n",
       "      <td>0.001243</td>\n",
       "      <td>0.000699</td>\n",
       "    </tr>\n",
       "    <tr>\n",
       "      <th>3</th>\n",
       "      <td>0.14</td>\n",
       "      <td>0.001974</td>\n",
       "      <td>0.000730</td>\n",
       "    </tr>\n",
       "    <tr>\n",
       "      <th>4</th>\n",
       "      <td>0.19</td>\n",
       "      <td>0.002900</td>\n",
       "      <td>0.000927</td>\n",
       "    </tr>\n",
       "    <tr>\n",
       "      <th>5</th>\n",
       "      <td>0.24</td>\n",
       "      <td>0.004276</td>\n",
       "      <td>0.001376</td>\n",
       "    </tr>\n",
       "    <tr>\n",
       "      <th>6</th>\n",
       "      <td>0.29</td>\n",
       "      <td>0.006447</td>\n",
       "      <td>0.002171</td>\n",
       "    </tr>\n",
       "    <tr>\n",
       "      <th>7</th>\n",
       "      <td>0.34</td>\n",
       "      <td>0.010286</td>\n",
       "      <td>0.003838</td>\n",
       "    </tr>\n",
       "    <tr>\n",
       "      <th>8</th>\n",
       "      <td>0.39</td>\n",
       "      <td>0.017122</td>\n",
       "      <td>0.006837</td>\n",
       "    </tr>\n",
       "    <tr>\n",
       "      <th>9</th>\n",
       "      <td>0.44</td>\n",
       "      <td>0.028435</td>\n",
       "      <td>0.011312</td>\n",
       "    </tr>\n",
       "    <tr>\n",
       "      <th>10</th>\n",
       "      <td>0.49</td>\n",
       "      <td>0.050366</td>\n",
       "      <td>0.021931</td>\n",
       "    </tr>\n",
       "    <tr>\n",
       "      <th>11</th>\n",
       "      <td>0.54</td>\n",
       "      <td>0.093948</td>\n",
       "      <td>0.043582</td>\n",
       "    </tr>\n",
       "    <tr>\n",
       "      <th>12</th>\n",
       "      <td>0.59</td>\n",
       "      <td>0.173493</td>\n",
       "      <td>0.079545</td>\n",
       "    </tr>\n",
       "    <tr>\n",
       "      <th>13</th>\n",
       "      <td>0.64</td>\n",
       "      <td>0.285608</td>\n",
       "      <td>0.112115</td>\n",
       "    </tr>\n",
       "    <tr>\n",
       "      <th>14</th>\n",
       "      <td>0.69</td>\n",
       "      <td>0.421842</td>\n",
       "      <td>0.136234</td>\n",
       "    </tr>\n",
       "    <tr>\n",
       "      <th>15</th>\n",
       "      <td>0.74</td>\n",
       "      <td>0.566651</td>\n",
       "      <td>0.144809</td>\n",
       "    </tr>\n",
       "    <tr>\n",
       "      <th>16</th>\n",
       "      <td>0.79</td>\n",
       "      <td>0.703688</td>\n",
       "      <td>0.137037</td>\n",
       "    </tr>\n",
       "    <tr>\n",
       "      <th>17</th>\n",
       "      <td>0.84</td>\n",
       "      <td>0.827044</td>\n",
       "      <td>0.123356</td>\n",
       "    </tr>\n",
       "    <tr>\n",
       "      <th>18</th>\n",
       "      <td>0.89</td>\n",
       "      <td>0.926808</td>\n",
       "      <td>0.099764</td>\n",
       "    </tr>\n",
       "    <tr>\n",
       "      <th>19</th>\n",
       "      <td>0.94</td>\n",
       "      <td>0.982259</td>\n",
       "      <td>0.055451</td>\n",
       "    </tr>\n",
       "    <tr>\n",
       "      <th>20</th>\n",
       "      <td>0.99</td>\n",
       "      <td>0.998040</td>\n",
       "      <td>0.015780</td>\n",
       "    </tr>\n",
       "    <tr>\n",
       "      <th>21</th>\n",
       "      <td>1.49</td>\n",
       "      <td>1.000000</td>\n",
       "      <td>0.001960</td>\n",
       "    </tr>\n",
       "  </tbody>\n",
       "</table>\n",
       "</div>"
      ],
      "text/plain": [
       "    Age Group(Endpoint)  Accumulated Mortality Rate  Mortality Rate\n",
       "0                  0.00                    0.000000        0.000000\n",
       "1                  0.04                    0.000544        0.000544\n",
       "2                  0.09                    0.001243        0.000699\n",
       "3                  0.14                    0.001974        0.000730\n",
       "4                  0.19                    0.002900        0.000927\n",
       "5                  0.24                    0.004276        0.001376\n",
       "6                  0.29                    0.006447        0.002171\n",
       "7                  0.34                    0.010286        0.003838\n",
       "8                  0.39                    0.017122        0.006837\n",
       "9                  0.44                    0.028435        0.011312\n",
       "10                 0.49                    0.050366        0.021931\n",
       "11                 0.54                    0.093948        0.043582\n",
       "12                 0.59                    0.173493        0.079545\n",
       "13                 0.64                    0.285608        0.112115\n",
       "14                 0.69                    0.421842        0.136234\n",
       "15                 0.74                    0.566651        0.144809\n",
       "16                 0.79                    0.703688        0.137037\n",
       "17                 0.84                    0.827044        0.123356\n",
       "18                 0.89                    0.926808        0.099764\n",
       "19                 0.94                    0.982259        0.055451\n",
       "20                 0.99                    0.998040        0.015780\n",
       "21                 1.49                    1.000000        0.001960"
      ]
     },
     "execution_count": 305,
     "metadata": {},
     "output_type": "execute_result"
    }
   ],
   "source": [
    "table2=pd.DataFrame({'Age Group(Endpoint)':fit_age, 'Accumulated Mortality Rate': mn_mr, \n",
    "                     'Mortality Rate': mn_mr_pdf})\n",
    "table2.to_csv('Cancer_Mortality.csv')\n",
    "table2\n"
   ]
  },
  {
   "cell_type": "code",
   "execution_count": 292,
   "metadata": {},
   "outputs": [
    {
     "data": {
      "text/plain": [
       "Text(0.5, 1.0, 'Expected Age of Malignant neoplasms:70.88')"
      ]
     },
     "execution_count": 292,
     "metadata": {},
     "output_type": "execute_result"
    },
    {
     "data": {
      "image/png": "[encoded data removed]",
      "text/plain": [
       "<Figure size 432x288 with 1 Axes>"
      ]
     },
     "metadata": {
      "needs_background": "light"
     },
     "output_type": "display_data"
    }
   ],
   "source": [
    "pre_mr_pdf = [pdf(i, popt_cdf[0], popt_cdf[1], popt_pdf[2])*0.1 for i in fit_age]\n",
    "\n",
    "plt.plot([i*100 for i in fit_age], mn_mr_pdf,'r*', \n",
    "         [i*100 for i in fit_age], pre_mr_pdf, 'b')\n",
    "plt.legend(['Real Mortality Rate', 'Fitted G-M Curve CDF'])\n",
    "plt.xlabel('Age')\n",
    "plt.ylabel('Accumulated Mortality Rate of Disease %')\n",
    "plt.title(f'Expected Age of Malignant neoplasms:{round(Expected_Age,2)}')"
   ]
  },
  {
   "cell_type": "markdown",
   "metadata": {},
   "source": [
    "+ For each sample point in the graph, we approximate it by using the PDF with the coefficients come from CDF, then sum it up and multiplied it by the steps, which is:\n",
    "  + $$0.000544=\\int_5^9 PDF(age, coef_{CDF})d_{age}$$\n",
    "  + And by taking more small steps, the curve will be more closer to the sample points."
   ]
  },
  {
   "cell_type": "code",
   "execution_count": 304,
   "metadata": {},
   "outputs": [
    {
     "data": {
      "text/plain": [
       "Text(0.5, 1.0, 'Expected Age of Malignant neoplasms:70.88')"
      ]
     },
     "execution_count": 304,
     "metadata": {},
     "output_type": "execute_result"
    },
    {
     "data": {
      "image/png": "[encoded data removed]",
      "text/plain": [
       "<Figure size 432x288 with 1 Axes>"
      ]
     },
     "metadata": {
      "needs_background": "light"
     },
     "output_type": "display_data"
    }
   ],
   "source": [
    "pre_mr_pdf = [0.01 * sum([pdf(j, popt_cdf[0], popt_cdf[1], popt_cdf[2]) \n",
    "                          for j in np.linspace(i, i+0.05,5)])\n",
    "              for i in fit_age]\n",
    "\n",
    "plt.plot([i*100 for i in fit_age], mn_mr_pdf,'r*', \n",
    "         [i*100 for i in fit_age], pre_mr_pdf, 'b')\n",
    "plt.legend(['Real Mortality Rate', 'Fitted G-M Curve PDF'])\n",
    "plt.xlabel('Age')\n",
    "plt.ylabel('Accumulated Mortality Rate of Disease')\n",
    "plt.title(f'Expected Age of Malignant neoplasms:{round(Expected_Age,2)}')"
   ]
  },
  {
   "cell_type": "markdown",
   "metadata": {},
   "source": [
    "## Another charts"
   ]
  },
  {
   "cell_type": "code",
   "execution_count": 379,
   "metadata": {},
   "outputs": [
    {
     "data": {
      "text/plain": [
       "Text(0.5, 1.0, 'Mortality Distribution')"
      ]
     },
     "execution_count": 379,
     "metadata": {},
     "output_type": "execute_result"
    },
    {
     "data": {
      "image/png": "[encoded data removed]",
      "text/plain": [
       "<Figure size 432x288 with 1 Axes>"
      ]
     },
     "metadata": {
      "needs_background": "light"
     },
     "output_type": "display_data"
    }
   ],
   "source": [
    "pre_mr_pdf = [0.01 * sum([pdf(j, popt_cdf[0], popt_cdf[1], popt_cdf[2]) \n",
    "                          for j in np.linspace(i, i+0.05,5)])\n",
    "              for i in fit_age]\n",
    "\n",
    "plt.bar([i*100 for i in fit_age], mn_mr_pdf)\n",
    "plt.xlabel('Age')\n",
    "plt.ylabel('Accumulated Mortality Rate of Disease')\n",
    "plt.title('Mortality Distribution')"
   ]
  },
  {
   "cell_type": "code",
   "execution_count": 380,
   "metadata": {},
   "outputs": [
    {
     "data": {
      "text/plain": [
       "Text(0.5, 1.0, 'G-M Mortality Distribution')"
      ]
     },
     "execution_count": 380,
     "metadata": {},
     "output_type": "execute_result"
    },
    {
     "data": {
      "image/png": "[encoded data removed]",
      "text/plain": [
       "<Figure size 432x288 with 1 Axes>"
      ]
     },
     "metadata": {
      "needs_background": "light"
     },
     "output_type": "display_data"
    }
   ],
   "source": [
    "pre_mr_pdf = [0.01 * sum([pdf(j, popt_cdf[0], popt_cdf[1], popt_cdf[2]) \n",
    "                          for j in np.linspace(i, i+0.05,5)])\n",
    "              for i in fit_age]\n",
    "\n",
    "plt.bar([i*100 for i in fit_age], pre_mr_pdf)\n",
    "plt.xlabel('Age')\n",
    "plt.ylabel('Accumulated Mortality Rate of Disease')\n",
    "plt.title('G-M Mortality Distribution')"
   ]
  },
  {
   "cell_type": "markdown",
   "metadata": {},
   "source": [
    "## Compute the expected lifespan"
   ]
  },
  {
   "cell_type": "markdown",
   "metadata": {},
   "source": [
    "$$\n",
    "N_{yes}*Age_{yes}+N_{no}*Age_{no}=N_{all}*Age_{all}\\\\\\to Age_{cure}=Age_{no}=\\frac{N_{all}*Age_{all}-N_{yes}*Age_{yes}}{N_{no}}\n",
    "$$"
   ]
  },
  {
   "cell_type": "code",
   "execution_count": 358,
   "metadata": {},
   "outputs": [
    {
     "data": {
      "text/plain": [
       "1.4265338394393865"
      ]
     },
     "execution_count": 358,
     "metadata": {},
     "output_type": "execute_result"
    }
   ],
   "source": [
    "Age_all = 76.1 # Not sure yet, need more authoritative data\n",
    "N_all = sum(popu)* 1000\n",
    "# Assume the percentage of people who have cancer is the portion of people who died from cancer\n",
    "N_yes = (sum([age_death[i] * mn_po[i] / 100 for i in range(len(mn_po))])/sum(age_death))*N_all\n",
    "Age_yes = Expected_Age\n",
    "\n",
    "Age_cure = ((N_all * Age_all - N_yes * Age_yes)\n",
    "            /(N_all - N_yes))\n",
    "Age_span = Age_cure - Age_all\n",
    "Age_span"
   ]
  },
  {
   "cell_type": "markdown",
   "metadata": {},
   "source": [
    "+ So the expected lifespan in U.S. if we can cure cancer is 1.43 years"
   ]
  },
  {
   "cell_type": "code",
   "execution_count": 378,
   "metadata": {},
   "outputs": [
    {
     "data": {
      "text/plain": [
       "([<matplotlib.patches.Wedge at 0x290a82b77c0>,\n",
       "  <matplotlib.patches.Wedge at 0x290a82b76d0>],\n",
       " [Text(0.8592103155007879, 0.6868461499761331, 'Malignant Neoplasms: 21%'),\n",
       "  Text(-0.9373203441826776, -0.7492867090648726, 'Others: 79%')])"
      ]
     },
     "execution_count": 378,
     "metadata": {},
     "output_type": "execute_result"
    },
    {
     "data": {
      "image/png": "[encoded data removed]",
      "text/plain": [
       "<Figure size 432x288 with 1 Axes>"
      ]
     },
     "metadata": {},
     "output_type": "display_data"
    }
   ],
   "source": [
    "plt.pie([N_yes,N_all-N_yes],[0,0.1],[f'Malignant Neoplasms: {round(100*N_yes/(N_all))}%',\n",
    "                                     f'Others: {round(100*(N_all-N_yes)/(N_all))}%'])\n"
   ]
  },
  {
   "cell_type": "code",
   "execution_count": null,
   "metadata": {},
   "outputs": [],
   "source": [
    "plt."
   ]
  }
 ],
 "metadata": {
  "kernelspec": {
   "display_name": "ptl",
   "language": "python",
   "name": "python3"
  },
  "language_info": {
   "codemirror_mode": {
    "name": "ipython",
    "version": 3
   },
   "file_extension": ".py",
   "mimetype": "text/x-python",
   "name": "python",
   "nbconvert_exporter": "python",
   "pygments_lexer": "ipython3",
   "version": "3.9.16"
  },
  "orig_nbformat": 4
 },
 "nbformat": 4,
 "nbformat_minor": 2
}
